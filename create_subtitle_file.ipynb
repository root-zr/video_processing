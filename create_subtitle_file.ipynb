{
 "cells": [
  {
   "cell_type": "code",
   "execution_count": 1,
   "id": "db76fd0f",
   "metadata": {},
   "outputs": [],
   "source": [
    "from IPython.core.interactiveshell import InteractiveShell  #执行该代码可以使得当前nb支持多输出\n",
    "InteractiveShell.ast_node_interactivity = \"all\" \n",
    "from mpl_toolkits.mplot3d import Axes3D\n",
    "import pandas as pd \n",
    "pd.options.display.max_rows = 8  \n",
    "%matplotlib inline"
   ]
  },
  {
   "cell_type": "code",
   "execution_count": 2,
   "id": "4fe2827c",
   "metadata": {},
   "outputs": [],
   "source": [
    "import os\n",
    "import ffmpeg\n",
    "import whisper\n",
    "import argparse\n",
    "import warnings\n",
    "import tempfile"
   ]
  },
  {
   "cell_type": "markdown",
   "id": "7933d3a5",
   "metadata": {},
   "source": [
    "视频的配置信息，包括原视频路径，生成字幕的语言，是否生成字幕文件等"
   ]
  },
  {
   "cell_type": "code",
   "execution_count": 3,
   "id": "bff71215",
   "metadata": {},
   "outputs": [],
   "source": [
    "base_dir = \"video/\"\n",
    "file_name = \"input\"\n",
    "input_dir: str = base_dir + file_name + \".mp4\"   \n",
    "output_dir: str = base_dir\n",
    "\n",
    "model_name: str = \"medium.en\"   # `tiny`, `tiny.en`, `base`, `base.en`, `small`, `small.en`, `medium`, `medium.en`, `large`    \n",
    "    \n",
    "# whether to output the .srt file along with the video files\n",
    "output_srt: bool = True\n",
    "    \n",
    "# only generate the .srt file and not create overlayed video\n",
    "srt_only: bool = True\n",
    "       \n",
    "# \"auto\",\"af\",\"am\",\"ar\",\"as\",\"az\",\"ba\",\"be\",\"bg\",\"bn\",\"bo\",\"br\",\"bs\",\"ca\",\"cs\",\n",
    "# \"cy\",\"da\",\"de\",\"el\",\"en\",\"es\",\"et\",\"eu\",\"fa\",\"fi\",\"fo\",\"fr\",\"gl\",\"gu\",\"ha\",\"haw\",\n",
    "# \"he\",\"hi\",\"hr\",\"ht\",\"hu\",\"hy\",\"id\",\"is\",\"it\",\"ja\",\"jw\",\"ka\",\"kk\",\"km\",\"kn\",\"ko\",\"la\",\n",
    "# \"lb\",\"ln\",\"lo\",\"lt\",\"lv\",\"mg\",\"mi\",\"mk\",\"ml\",\"mn\",\"mr\",\"ms\",\"mt\",\"my\",\"ne\",\"nl\",\"nn\",\"no\",\n",
    "# \"oc\",\"pa\",\"pl\",\"ps\",\"pt\",\"ro\",\"ru\",\"sa\",\"sd\",\"si\",\"sk\",\"sl\",\"sn\",\"so\",\"sq\",\"sr\",\"su\",\"sv\",\n",
    "# \"sw\",\"ta\",\"te\",\"tg\",\"th\",\"tk\",\"tl\",\"tr\",\"tt\",\"uk\",\"ur\",\"uz\",\"vi\",\"yi\",\"yo\",\"zh\"]\n",
    "language: str = \"auto\"\n",
    "\n",
    "args = {}"
   ]
  },
  {
   "cell_type": "code",
   "execution_count": 4,
   "id": "961681c7",
   "metadata": {},
   "outputs": [],
   "source": [
    "from googletrans import Translator\n",
    "from typing import Iterator, TextIO\n",
    "from tqdm import tqdm\n",
    "import warnings\n",
    "\n",
    "def str2bool(string):\n",
    "    string = string.lower()\n",
    "    str2val = {\"true\": True, \"false\": False}\n",
    "\n",
    "    if string in str2val:\n",
    "        return str2val[string]\n",
    "    else:\n",
    "        raise ValueError(\n",
    "            f\"Expected one of {set(str2val.keys())}, got {string}\")\n",
    "\n",
    "\n",
    "def format_timestamp(seconds: float, always_include_hours: bool = False):\n",
    "    assert seconds >= 0, \"non-negative timestamp expected\"\n",
    "    milliseconds = round(seconds * 1000.0)\n",
    "\n",
    "    hours = milliseconds // 3_600_000\n",
    "    milliseconds -= hours * 3_600_000\n",
    "\n",
    "    minutes = milliseconds // 60_000\n",
    "    milliseconds -= minutes * 60_000\n",
    "\n",
    "    seconds = milliseconds // 1_000\n",
    "    milliseconds -= seconds * 1_000\n",
    "\n",
    "    hours_marker = f\"{hours}:\" if always_include_hours or hours > 0 else \"\"\n",
    "    return f\"{hours_marker}{minutes:02d}:{seconds:02d}.{milliseconds:03d}\"\n",
    "\n",
    "\n",
    "def write_srt(transcript: Iterator[dict], file: TextIO):\n",
    "    # 创建一个Translator对象\n",
    "    # translator = Translator()\n",
    "    \n",
    "    for i, segment in enumerate(transcript, start=1):\n",
    "        # translated = translator.translate(segment['text'].strip(), src='en', dest='zh-cn')\n",
    "        print(\n",
    "            f\"{i}\\n\"\n",
    "            f\"{format_timestamp(segment['start'], always_include_hours=True)} --> \"\n",
    "            f\"{format_timestamp(segment['end'], always_include_hours=True)}\\n\"\n",
    "            f\"{segment['text'].strip().replace('-->', '->')}\\n\",\n",
    "            # f\"{translated.text}\\n\",\n",
    "            file=file,\n",
    "            flush=True,\n",
    "        )\n",
    "\n",
    "\n",
    "def get_file_name(path):\n",
    "    return os.path.splitext(os.path.basename(path))[0]\n",
    "\n",
    "def get_subtitles(audio_paths: dict, output_srt: bool, output_dir: str, transcribe: callable):\n",
    "    subtitles_path = {}\n",
    "\n",
    "    # 使用 tqdm 创建进度条\n",
    "    for path, audio_path in tqdm(audio_paths.items(), desc=\"Processing subtitles\"):\n",
    "        srt_path = output_dir + get_file_name(path) + \".srt\"\n",
    "\n",
    "        print(\"file_name:\", get_file_name(path))\n",
    "        print(\"srt_path:\", srt_path)\n",
    "        \n",
    "        print(\n",
    "            f\"Generating subtitles for {get_file_name(path)}... This might take a while.\"\n",
    "        )\n",
    "\n",
    "        warnings.filterwarnings(\"ignore\")\n",
    "        result = transcribe(audio_path)\n",
    "        warnings.filterwarnings(\"default\")\n",
    "\n",
    "        with open(srt_path, \"w\", encoding=\"utf-8\") as srt:\n",
    "            write_srt(result[\"segments\"], file=srt)\n",
    "\n",
    "        subtitles_path[path] = srt_path\n",
    "\n",
    "    return subtitles_path\n",
    "\n",
    "def get_audio(path):\n",
    "    temp_dir = \"temp_audio\"\n",
    "    os.makedirs(temp_dir, exist_ok=True)\n",
    "\n",
    "    audio_paths = {}\n",
    "    if not os.path.isfile(path):\n",
    "        print(f\"File not found: {path}\")\n",
    "        return audio_paths\n",
    "\n",
    "    try:\n",
    "        print(f\"Extracting audio from {get_file_name(path)} ({path})...\")\n",
    "        output_path = os.path.join(temp_dir, f\"{get_file_name(path)}.wav\")\n",
    "\n",
    "        # Run ffmpeg command and capture stdout and stderr\n",
    "        out, err = ffmpeg.input(path).output(\n",
    "            output_path,\n",
    "            acodec=\"pcm_s16le\", ac=1, ar=\"16k\"\n",
    "        ).run(capture_stdout=True, capture_stderr=True, overwrite_output=True)\n",
    "\n",
    "        audio_paths[path] = output_path\n",
    "    except ffmpeg.Error as e:\n",
    "        # Print ffmpeg error message\n",
    "        print(f\"Error occurred while processing {path}:\")\n",
    "        if e.stderr:\n",
    "            print(e.stderr.decode())\n",
    "        else:\n",
    "            print(\"No stderr output available.\")\n",
    "\n",
    "    return audio_paths"
   ]
  },
  {
   "cell_type": "markdown",
   "id": "e439c58a",
   "metadata": {},
   "source": [
    "生成字幕文件"
   ]
  },
  {
   "cell_type": "code",
   "execution_count": 5,
   "id": "0ca93776",
   "metadata": {},
   "outputs": [
    {
     "name": "stderr",
     "output_type": "stream",
     "text": [
      "C:\\Users\\Administrator\\AppData\\Local\\Temp\\ipykernel_19948\\3405334641.py:2: UserWarning: medium.en is an English-only model, forcing English detection.\n",
      "  warnings.warn(\n"
     ]
    },
    {
     "name": "stdout",
     "output_type": "stream",
     "text": [
      "Extracting audio from input (video/input.mp4)...\n"
     ]
    },
    {
     "name": "stderr",
     "output_type": "stream",
     "text": [
      "\r",
      "Processing subtitles:   0%|                                                                      | 0/1 [00:00<?, ?it/s]"
     ]
    },
    {
     "name": "stdout",
     "output_type": "stream",
     "text": [
      "file_name: input\n",
      "srt_path: video/input.srt\n",
      "Generating subtitles for input... This might take a while.\n"
     ]
    },
    {
     "name": "stderr",
     "output_type": "stream",
     "text": [
      "Processing subtitles: 100%|█████████████████████████████████████████████████████████████| 1/1 [08:08<00:00, 488.86s/it]\n"
     ]
    }
   ],
   "source": [
    "if model_name.endswith(\".en\"):\n",
    "    warnings.warn(\n",
    "        f\"{model_name} is an English-only model, forcing English detection.\")\n",
    "    args[\"language\"] = \"en\"\n",
    "# if translate task used and language argument is set, then use it\n",
    "elif language != \"auto\":\n",
    "    args[\"language\"] = language\n",
    "\n",
    "model = whisper.load_model(model_name)\n",
    "audios = get_audio(input_dir)\n",
    "subtitles = get_subtitles(\n",
    "    audios, output_srt or srt_only, output_dir, lambda audio_path: model.transcribe(audio_path, **args)\n",
    ")"
   ]
  },
  {
   "cell_type": "markdown",
   "id": "9b446a2e",
   "metadata": {},
   "source": [
    "如果没有更新字幕文件可以跳过下面的 CELL，继续执行下一个\n",
    "\n",
    "也可以选择执行，默认和上文中生成的路径是一致的"
   ]
  },
  {
   "cell_type": "code",
   "execution_count": 31,
   "id": "b3ec1531",
   "metadata": {},
   "outputs": [],
   "source": [
    "tmp_srt_path = base_dir + file_name + \".srt\"\n",
    "\n",
    "subtitles = { input_dir : tmp_srt_path}"
   ]
  },
  {
   "cell_type": "markdown",
   "id": "25714259",
   "metadata": {},
   "source": [
    "将字幕加到视频中"
   ]
  },
  {
   "cell_type": "code",
   "execution_count": 7,
   "id": "16665b64",
   "metadata": {},
   "outputs": [
    {
     "name": "stdout",
     "output_type": "stream",
     "text": [
      "Adding subtitles to input...\n",
      "path:video/input.mp4\n",
      "srt_path:video/input.srt\n",
      "out_path:video/output.mp4\n"
     ]
    },
    {
     "data": {
      "text/plain": [
       "(None, None)"
      ]
     },
     "execution_count": 7,
     "metadata": {},
     "output_type": "execute_result"
    },
    {
     "name": "stdout",
     "output_type": "stream",
     "text": [
      "Saved subtitled video to D:\\sys\\Anaconda3\\ipython_file\\video\\github\\video_processing\\video\\output.mp4.\n"
     ]
    }
   ],
   "source": [
    "for path, srt_path in subtitles.items():\n",
    "    out_path = os.path.join(output_dir, f\"output.mp4\")\n",
    "\n",
    "    print(f\"Adding subtitles to {get_file_name(path)}...\")\n",
    "    print(\"path:\" + path)\n",
    "    print(\"srt_path:\" + srt_path)\n",
    "    print(\"out_path:\" + out_path)\n",
    "\n",
    "    video = ffmpeg.input(path)\n",
    "    audio = video.audio\n",
    "\n",
    "    ffmpeg.concat(\n",
    "        video.filter('subtitles', srt_path, force_style=\"OutlineColour=&H40000000,BorderStyle=3\"), audio, v=1, a=1\n",
    "    ).output(out_path).run(quiet=False, overwrite_output=False)\n",
    "\n",
    "    print(f\"Saved subtitled video to {os.path.abspath(out_path)}.\")"
   ]
  },
  {
   "cell_type": "code",
   "execution_count": null,
   "id": "db04bab7",
   "metadata": {},
   "outputs": [],
   "source": []
  },
  {
   "cell_type": "code",
   "execution_count": null,
   "id": "89dbebdf",
   "metadata": {},
   "outputs": [],
   "source": []
  }
 ],
 "metadata": {
  "kernelspec": {
   "display_name": "Python 3 (ipykernel)",
   "language": "python",
   "name": "python3"
  },
  "language_info": {
   "codemirror_mode": {
    "name": "ipython",
    "version": 3
   },
   "file_extension": ".py",
   "mimetype": "text/x-python",
   "name": "python",
   "nbconvert_exporter": "python",
   "pygments_lexer": "ipython3",
   "version": "3.11.4"
  }
 },
 "nbformat": 4,
 "nbformat_minor": 5
}
