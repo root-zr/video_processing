{
 "cells": [
  {
   "cell_type": "code",
   "execution_count": 1,
   "id": "4d4390e3",
   "metadata": {},
   "outputs": [],
   "source": [
    "from IPython.core.interactiveshell import InteractiveShell  #执行该代码可以使得当前nb支持多输出\n",
    "InteractiveShell.ast_node_interactivity = \"all\" \n",
    "from mpl_toolkits.mplot3d import Axes3D\n",
    "import pandas as pd \n",
    "pd.options.display.max_rows = 8  \n",
    "%matplotlib inline"
   ]
  },
  {
   "cell_type": "code",
   "execution_count": 2,
   "id": "dfbab48c",
   "metadata": {},
   "outputs": [
    {
     "name": "stdout",
     "output_type": "stream",
     "text": [
      "Moviepy - Building video video/output.mp4.\n",
      "MoviePy - Writing audio in outputTEMP_MPY_wvf_snd.mp3\n"
     ]
    },
    {
     "name": "stderr",
     "output_type": "stream",
     "text": [
      "                                                                                                                       \r"
     ]
    },
    {
     "name": "stdout",
     "output_type": "stream",
     "text": [
      "MoviePy - Done.\n",
      "Moviepy - Writing video video/output.mp4\n",
      "\n"
     ]
    },
    {
     "name": "stderr",
     "output_type": "stream",
     "text": [
      "                                                                                                                       \r"
     ]
    },
    {
     "name": "stdout",
     "output_type": "stream",
     "text": [
      "Moviepy - Done !\n",
      "Moviepy - video ready video/output.mp4\n"
     ]
    }
   ],
   "source": [
    "from moviepy.video.io.VideoFileClip import VideoFileClip\n",
    "\n",
    "def time_to_seconds(time_str):\n",
    "    # Convert time string (HH:MM:SS) to seconds\n",
    "    h, m, s = map(int, time_str.split(':'))\n",
    "    return h * 3600 + m * 60 + s\n",
    "\n",
    "def trim_video(input_file, output_file, start_time_str, end_time_str):\n",
    "    # Convert time strings to seconds\n",
    "    start_time = time_to_seconds(start_time_str)\n",
    "    end_time = time_to_seconds(end_time_str)\n",
    "    \n",
    "    # Load the video file using with statement for proper resource management\n",
    "    with VideoFileClip(input_file) as video:\n",
    "        # Trim the video between start_time and end_time\n",
    "        trimmed_video = video.subclip(start_time, end_time)\n",
    "        \n",
    "        # Write the trimmed video to the output file\n",
    "        trimmed_video.write_videofile(output_file, codec='libx264')\n",
    "base_dir = \"video/\"\n",
    "input_file = base_dir + \"input.mp4\"\n",
    "output_file = base_dir + \"output.mp4\"\n",
    "start_time_str = \"00:01:25\"  # start time (HH:MM:SS)\n",
    "end_time_str = \"00:03:35\"    # end time (HH:MM:SS)\n",
    "\n",
    "trim_video(input_file, output_file, start_time_str, end_time_str)"
   ]
  },
  {
   "cell_type": "code",
   "execution_count": null,
   "id": "4f2cbfce",
   "metadata": {},
   "outputs": [],
   "source": []
  }
 ],
 "metadata": {
  "kernelspec": {
   "display_name": "Python 3 (ipykernel)",
   "language": "python",
   "name": "python3"
  },
  "language_info": {
   "codemirror_mode": {
    "name": "ipython",
    "version": 3
   },
   "file_extension": ".py",
   "mimetype": "text/x-python",
   "name": "python",
   "nbconvert_exporter": "python",
   "pygments_lexer": "ipython3",
   "version": "3.11.4"
  }
 },
 "nbformat": 4,
 "nbformat_minor": 5
}
